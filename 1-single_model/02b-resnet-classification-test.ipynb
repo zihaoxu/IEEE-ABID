{
 "cells": [
  {
   "cell_type": "code",
   "execution_count": 1,
   "metadata": {},
   "outputs": [
    {
     "name": "stderr",
     "output_type": "stream",
     "text": [
      "c:\\users\\zaid\\anaconda2\\envs\\tensorflow3\\lib\\site-packages\\h5py\\__init__.py:36: FutureWarning: Conversion of the second argument of issubdtype from `float` to `np.floating` is deprecated. In future, it will be treated as `np.float64 == np.dtype(float).type`.\n",
      "  from ._conv import register_converters as _register_converters\n",
      "Using TensorFlow backend.\n"
     ]
    }
   ],
   "source": [
    "import keras, os\n",
    "import pandas as pd\n",
    "import numpy as np\n",
    "import seaborn as sns\n",
    "import matplotlib.pyplot as plt\n",
    "from keras.preprocessing import image\n",
    "from keras.utils.generic_utils import CustomObjectScope\n",
    "from keras.utils import to_categorical\n",
    "from keras.models import Model, load_model\n",
    "from keras.applications.resnet50 import preprocess_input\n",
    "from collections import defaultdict\n",
    "from sklearn.metrics import confusion_matrix\n",
    "\n",
    "%matplotlib inline"
   ]
  },
  {
   "cell_type": "code",
   "execution_count": 2,
   "metadata": {},
   "outputs": [],
   "source": [
    "# Helper functions\n",
    "def show_img(img_path):\n",
    "    img = image.load_img(img_path, target_size=(224, 224))\n",
    "    plt.imshow(img, interpolation='nearest')\n",
    "    plt.show()\n",
    "    \n",
    "def test_batch_generator(df, batch_size, img_path, num_classes, \\\n",
    "                    horizontal_flip = True, vertical_flip = True):\n",
    "    \"\"\"This generator use a pandas DataFrame to read images from disk.\n",
    "    \"\"\"\n",
    "    N = df.shape[0]\n",
    "    while True:\n",
    "        for start in range(0, N, batch_size):\n",
    "            x_batch = []\n",
    "            y_batch = []\n",
    "            if start + batch_size > N: break\n",
    "            for ind in range(start, start + batch_size):\n",
    "                name = df.loc[ind, 'file_name']\n",
    "                img = image.load_img(img_path+'/' + str(name) + '.jpg', target_size=(224, 224))\n",
    "                img = image.img_to_array(img)\n",
    "                labelname=df.loc[ind, 'label'] \n",
    "                x = preprocess_input(img) # Using tf\n",
    "                if horizontal_flip:\n",
    "                    x = flip_axis(x, img_col_axis)\n",
    "                if vertical_flip:\n",
    "                    x = flip_axis(x, img_row_axis)\n",
    "                x_batch.append(x)\n",
    "                y_batch.append(labelname) \n",
    "            x_batch = np.array(x_batch, dtype = np.float32)\n",
    "            y_batch = to_categorical(y_batch, num_classes = num_classes)\n",
    "            yield (x_batch, y_batch)\n",
    "    \n",
    "def flip_axis(x, axis):\n",
    "    x = np.asarray(x).swapaxes(axis, 0)\n",
    "    x = x[::-1, ...]\n",
    "    x = x.swapaxes(0, axis)\n",
    "    return x\n",
    "\n",
    "# Get per class acc and mse\n",
    "def per_class_scores(conf_mat, label_test):\n",
    "    res = defaultdict(list)\n",
    "    Ns = []\n",
    "    for i in range(conf_mat.shape[0]):\n",
    "        n = np.sum(conf_mat[i, :])\n",
    "        acc = conf_mat[i,i] / n\n",
    "        mse = np.sum([conf_mat[i,j] * ((j-i) ** 2) for j in range(conf_mat.shape[1])]) / n\n",
    "        Ns.append(n)\n",
    "        res['MSEs'].append(mse)\n",
    "        res['Accs'].append(acc)\n",
    "        print(\"Label\", i, \"acc:\", acc, \" mse:\", mse)\n",
    "    overall_acc = np.sum([conf_mat[i,i] for i in range(conf_mat.shape[0])]) / len(label_test)\n",
    "    overall_mse = np.dot(res['MSEs'], Ns) / np.sum(Ns)\n",
    "    print(\"Overall acc. is\", overall_acc)\n",
    "    print(\"Overall MSE is\", overall_mse)\n",
    "    res['MSEs'].append(overall_mse)\n",
    "    res['Accs'].append(overall_acc)\n",
    "    res['label'] = ['label_' + str(i) for i in range(6)] + ['overall']\n",
    "    return pd.DataFrame(res)\n",
    "\n",
    "def test_time_augmentation(model, mode):\n",
    "    ''' mode = 1: majority vote after argmax,\n",
    "        mode = 2: sum up all the probabilitys and then argmax '''\n",
    "    assert(mode == 1 or mode == 2)\n",
    "    label_test_prob_o = label_test_prob\n",
    "    label_test_prob_h = model.predict_generator(test_batch_generator(df_test, \n",
    "                                                  batch_size=BATCH_SIZE,\n",
    "                                                  img_path=img_path,\n",
    "                                                  num_classes=NUM_CLASSES,\n",
    "                                                  horizontal_flip = True,\n",
    "                                                  vertical_flip = False),\n",
    "                                              steps = len(df_test) // BATCH_SIZE,\n",
    "                                              verbose = 1)\n",
    "    label_test_prob_v = model.predict_generator(test_batch_generator(df_test, \n",
    "                                                  batch_size=BATCH_SIZE,\n",
    "                                                  img_path=img_path,\n",
    "                                                  num_classes=NUM_CLASSES,\n",
    "                                                  horizontal_flip = False,\n",
    "                                                  vertical_flip = True),\n",
    "                                              steps = len(df_test) // BATCH_SIZE,\n",
    "                                              verbose = 1)\n",
    "    if mode == 1:\n",
    "        label_test_pred_o = np.argmax(label_test_prob_o, axis=1)\n",
    "        label_test_pred_h = np.argmax(label_test_prob_h, axis=1)\n",
    "        label_test_pred_v = np.argmax(label_test_prob_v, axis=1)\n",
    "        final = []\n",
    "        for i in range(label_test_pred_o.shape[0]):\n",
    "            final.append(np.argmax(np.bincount([label_test_pred_o[i],label_test_pred_h[i],label_test_pred_v[i]])))\n",
    "    else:\n",
    "        label_test_pred_final = np.sum([label_test_prob_o, label_test_prob_h, label_test_prob_v], axis = 0)\n",
    "        final = np.argmax(label_test_pred_final, axis=1)\n",
    "    return final\n",
    "\n",
    "def model_eval(model_name, pred_values, test_time_augment = False):\n",
    "    if test_time_augment:\n",
    "        new_name = model_name + '_test_aug'\n",
    "    # plot conf_matrix\n",
    "    new_name = model_name\n",
    "    conf_mat = confusion_matrix(label_test, pred_values)\n",
    "    sns.heatmap(conf_mat, annot = True, cmap = 'Blues')\n",
    "    plt.xlabel('Predicted Value')\n",
    "    plt.ylabel('True Value')\n",
    "    plt.savefig(plot_output_path + new_name + '_confmat', fmt = 'png', dpi = 300)\n",
    "    \n",
    "    # Save model evaluation, per class acc and mse\n",
    "    res = per_class_scores(conf_mat, label_test)\n",
    "    res.to_csv(model_eval_path + new_name + '.csv', index = None)\n",
    "    \n",
    "def show_wrong_img(num):\n",
    "    for i in range(num):\n",
    "        pred_class = np.argmax(label_test_prob[errors[i]])\n",
    "\n",
    "        print('Original label: {}, Prediction : {}, confidence : {:.3f}'.format(\n",
    "            label_test[errors[i]],\n",
    "            pred_class,\n",
    "            label_test_prob[errors[i]][pred_class]))\n",
    "\n",
    "        path = img_path + '/' + str(df_test.loc[errors[i], 'file_name']) + '.jpg'\n",
    "        show_img(path)"
   ]
  },
  {
   "cell_type": "code",
   "execution_count": 3,
   "metadata": {},
   "outputs": [],
   "source": [
    "# Define file paths\n",
    "base_path = \"..\\\\..\\\\..\\\\train_data\"\n",
    "file_path = os.path.join(base_path,\"file_labels\")\n",
    "img_path = os.path.join(base_path,\"bin-images\")"
   ]
  },
  {
   "cell_type": "code",
   "execution_count": 4,
   "metadata": {},
   "outputs": [
    {
     "name": "stdout",
     "output_type": "stream",
     "text": [
      "..\\saved_models\\resnet(caffe)_adam_32_random_augment.hdf5\n"
     ]
    }
   ],
   "source": [
    "# Define model name\n",
    "BATCH_SIZE = 32\n",
    "NUM_CLASSES = 6\n",
    "col_axis = 2\n",
    "row_axis = 1\n",
    "img_col_axis = col_axis - 1\n",
    "img_row_axis = row_axis - 1\n",
    "\n",
    "model_output_path = \"..\\\\saved_models\\\\\"\n",
    "model_eval_path = \"..\\\\model_evaluation\\\\\"\n",
    "plot_output_path = \"..\\\\visualization\\\\conf_mat\\\\\"\n",
    "model_name = \"resnet(caffe)_adam_\"+str(BATCH_SIZE) + \"_random_augment\"\n",
    "base_filepath = model_output_path + model_name + \".hdf5\"\n",
    "print(base_filepath)"
   ]
  },
  {
   "cell_type": "code",
   "execution_count": 5,
   "metadata": {},
   "outputs": [
    {
     "name": "stdout",
     "output_type": "stream",
     "text": [
      "(36197, 2)\n"
     ]
    }
   ],
   "source": [
    "df_test = pd.read_csv(file_path+'\\\\moderate_test.csv', dtype = {'file_name':str, 'lable':np.int8}).drop('sharpness', 1)\n",
    "print(df_test.shape)"
   ]
  },
  {
   "cell_type": "code",
   "execution_count": 6,
   "metadata": {},
   "outputs": [],
   "source": [
    "# Loading the best model\n",
    "model = load_model(base_filepath)"
   ]
  },
  {
   "cell_type": "code",
   "execution_count": 7,
   "metadata": {},
   "outputs": [
    {
     "name": "stdout",
     "output_type": "stream",
     "text": [
      "1131/1131 [==============================] - 145s 128ms/step\n",
      "label_test_pred.shape: (36192, 6)\n"
     ]
    }
   ],
   "source": [
    "label_test_prob = model.predict_generator(test_batch_generator(df_test, \n",
    "                                              batch_size=BATCH_SIZE,\n",
    "                                              img_path=img_path,\n",
    "                                              num_classes=NUM_CLASSES,\n",
    "                                              horizontal_flip = False, vertical_flip = False),\n",
    "                                          steps = len(df_test) // BATCH_SIZE,\n",
    "                                          verbose = 1)\n",
    "print(\"label_test_pred.shape:\", label_test_prob.shape)\n",
    "label_test_pred = np.argmax(label_test_prob, axis=1)\n",
    "label_test = df_test['label'][:len(label_test_pred)]"
   ]
  },
  {
   "cell_type": "code",
   "execution_count": 8,
   "metadata": {},
   "outputs": [
    {
     "data": {
      "text/html": [
       "<div>\n",
       "<style scoped>\n",
       "    .dataframe tbody tr th:only-of-type {\n",
       "        vertical-align: middle;\n",
       "    }\n",
       "\n",
       "    .dataframe tbody tr th {\n",
       "        vertical-align: top;\n",
       "    }\n",
       "\n",
       "    .dataframe thead th {\n",
       "        text-align: right;\n",
       "    }\n",
       "</style>\n",
       "<table border=\"1\" class=\"dataframe\">\n",
       "  <thead>\n",
       "    <tr style=\"text-align: right;\">\n",
       "      <th></th>\n",
       "      <th>variable</th>\n",
       "      <th>value</th>\n",
       "    </tr>\n",
       "  </thead>\n",
       "  <tbody>\n",
       "    <tr>\n",
       "      <th>0</th>\n",
       "      <td>pred</td>\n",
       "      <td>5</td>\n",
       "    </tr>\n",
       "    <tr>\n",
       "      <th>1</th>\n",
       "      <td>pred</td>\n",
       "      <td>5</td>\n",
       "    </tr>\n",
       "    <tr>\n",
       "      <th>2</th>\n",
       "      <td>pred</td>\n",
       "      <td>2</td>\n",
       "    </tr>\n",
       "    <tr>\n",
       "      <th>3</th>\n",
       "      <td>pred</td>\n",
       "      <td>3</td>\n",
       "    </tr>\n",
       "    <tr>\n",
       "      <th>4</th>\n",
       "      <td>pred</td>\n",
       "      <td>2</td>\n",
       "    </tr>\n",
       "  </tbody>\n",
       "</table>\n",
       "</div>"
      ],
      "text/plain": [
       "  variable  value\n",
       "0     pred      5\n",
       "1     pred      5\n",
       "2     pred      2\n",
       "3     pred      3\n",
       "4     pred      2"
      ]
     },
     "execution_count": 8,
     "metadata": {},
     "output_type": "execute_result"
    }
   ],
   "source": [
    "result = defaultdict(list)\n",
    "result['pred'] = label_test_pred\n",
    "result['actual'] = label_test\n",
    "result = pd.DataFrame(result)\n",
    "result = result.melt(value_vars=['pred', 'actual'])\n",
    "result.head()"
   ]
  },
  {
   "cell_type": "code",
   "execution_count": 9,
   "metadata": {},
   "outputs": [],
   "source": [
    "# show_wrong_img(num = 3)"
   ]
  },
  {
   "cell_type": "code",
   "execution_count": 10,
   "metadata": {},
   "outputs": [
    {
     "data": {
      "text/plain": [
       "<seaborn.axisgrid.FacetGrid at 0x1a763382518>"
      ]
     },
     "execution_count": 10,
     "metadata": {},
     "output_type": "execute_result"
    },
    {
     "data": {
      "image/png": "[encoded data removed]",
      "text/plain": [
       "<matplotlib.figure.Figure at 0x1a97c0552b0>"
      ]
     },
     "metadata": {},
     "output_type": "display_data"
    }
   ],
   "source": [
    "# Plot prediction imbalance\n",
    "sns.factorplot(x='value', hue='variable', data=result, kind='count')"
   ]
  },
  {
   "cell_type": "code",
   "execution_count": 11,
   "metadata": {},
   "outputs": [
    {
     "name": "stdout",
     "output_type": "stream",
     "text": [
      "Label 0 acc: 0.9733879222108496  mse: 0.07062436028659161\n",
      "Label 1 acc: 0.848527679623086  mse: 0.28645465253239105\n",
      "Label 2 acc: 0.6552181408301286  mse: 0.47739026654289884\n",
      "Label 3 acc: 0.531201933640958  mse: 0.6847945506482092\n",
      "Label 4 acc: 0.36615267947421637  mse: 1.131572295247725\n",
      "Label 5 acc: 0.32626656274356974  mse: 2.1981293842556506\n",
      "Overall acc. is 0.5337919982316534\n",
      "Overall MSE is 0.9441865605658709\n"
     ]
    },
    {
     "data": {
      "image/png": "[encoded data removed]",
      "text/plain": [
       "<matplotlib.figure.Figure at 0x1a98b055208>"
      ]
     },
     "metadata": {},
     "output_type": "display_data"
    }
   ],
   "source": [
    "model_eval(model_name, pred_values = label_test_pred)"
   ]
  },
  {
   "cell_type": "code",
   "execution_count": 12,
   "metadata": {},
   "outputs": [],
   "source": [
    "# final = test_time_augmentation(model, mode = 1)\n",
    "# model_eval(model_name, pred_values = final, test_time_augment = True)"
   ]
  },
  {
   "cell_type": "code",
   "execution_count": 13,
   "metadata": {},
   "outputs": [
    {
     "name": "stdout",
     "output_type": "stream",
     "text": [
      "1131/1131 [==============================] - 141s 125ms/step\n",
      "1131/1131 [==============================] - 147s 130ms/step\n",
      "Label 0 acc: 0.9754350051177073  mse: 0.07574206755373593\n",
      "Label 1 acc: 0.8633686690223793  mse: 0.25677267373380447\n",
      "Label 2 acc: 0.6641029041241214  mse: 0.4552446625116032\n",
      "Label 3 acc: 0.5557020435069215  mse: 0.6398593715666886\n",
      "Label 4 acc: 0.3763902932254803  mse: 1.083670374115268\n",
      "Label 5 acc: 0.32954014029618084  mse: 2.1066250974279033\n",
      "Overall acc. is 0.5464190981432361\n",
      "Overall MSE is 0.8982371794871795\n"
     ]
    },
    {
     "data": {
      "image/png": "[encoded data removed]",
      "text/plain": [
       "<matplotlib.figure.Figure at 0x1a98b0d4f60>"
      ]
     },
     "metadata": {},
     "output_type": "display_data"
    }
   ],
   "source": [
    "final = test_time_augmentation(model, mode = 2)\n",
    "model_eval(model_name, pred_values = final, test_time_augment = True)"
   ]
  },
  {
   "cell_type": "code",
   "execution_count": null,
   "metadata": {},
   "outputs": [],
   "source": []
  }
 ],
 "metadata": {
  "kernelspec": {
   "display_name": "Python 3",
   "language": "python",
   "name": "python3"
  },
  "language_info": {
   "codemirror_mode": {
    "name": "ipython",
    "version": 3
   },
   "file_extension": ".py",
   "mimetype": "text/x-python",
   "name": "python",
   "nbconvert_exporter": "python",
   "pygments_lexer": "ipython3",
   "version": "3.5.5"
  }
 },
 "nbformat": 4,
 "nbformat_minor": 2
}
