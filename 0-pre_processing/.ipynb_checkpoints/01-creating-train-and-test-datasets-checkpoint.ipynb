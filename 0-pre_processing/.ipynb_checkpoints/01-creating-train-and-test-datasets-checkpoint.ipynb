{
 "cells": [
  {
   "cell_type": "code",
   "execution_count": 1,
   "metadata": {},
   "outputs": [
    {
     "name": "stderr",
     "output_type": "stream",
     "text": [
      "c:\\users\\zaid\\anaconda2\\envs\\tensorflow3\\lib\\site-packages\\h5py\\__init__.py:36: FutureWarning: Conversion of the second argument of issubdtype from `float` to `np.floating` is deprecated. In future, it will be treated as `np.float64 == np.dtype(float).type`.\n",
      "  from ._conv import register_converters as _register_converters\n"
     ]
    }
   ],
   "source": [
    "import os, gc, sys\n",
    "import h5py, json, math\n",
    "import numpy as np\n",
    "import pandas as pd\n",
    "import seaborn as sns\n",
    "from PIL import Image\n",
    "from os import listdir\n",
    "from matplotlib import pyplot as plt\n",
    "from collections import defaultdict"
   ]
  },
  {
   "cell_type": "code",
   "execution_count": 6,
   "metadata": {},
   "outputs": [],
   "source": [
    "# Helper functions\n",
    "def memo_obj(obj):\n",
    "    print(sys.getsizeof(obj)/ 1024**2,\" MB\")\n",
    "\n",
    "def get_metadata(path):  \n",
    "    raw_json = json.loads(open(path).read())\n",
    "    num_items = raw_json['EXPECTED_QUANTITY'] \n",
    "    return num_items\n",
    "\n",
    "def get_image_and_labels(img_path, label_path):\n",
    "    image_names = filter( lambda x: x.endswith(\".jpg\"), os.listdir(img_path))\n",
    "    image_names = [os.path.splitext(x)[0] for x in image_names]\n",
    "    label_names = filter( lambda x: x.endswith(\".json\"), os.listdir(label_path))\n",
    "    label_names = [os.path.splitext(x)[0] for x in label_names]\n",
    "    assert(len(label_names) == len(image_names))\n",
    "    return image_names, label_names\n",
    "\n",
    "def intersection(lst1, lst2):\n",
    "    return list(set(lst1) & set(lst2))"
   ]
  },
  {
   "cell_type": "markdown",
   "metadata": {},
   "source": [
    "# Create a dataframe for train and val set\n"
   ]
  },
  {
   "cell_type": "code",
   "execution_count": 16,
   "metadata": {},
   "outputs": [],
   "source": [
    "base_path = \"..\\\\..\\\\..\\\\train_data\"\n",
    "csv_path = os.path.join(base_path,\"file_labels\")\n",
    "label_path = os.path.join(base_path,\"metadata\")\n",
    "img_path = os.path.join(base_path,\"bin-images\")"
   ]
  },
  {
   "cell_type": "code",
   "execution_count": 12,
   "metadata": {},
   "outputs": [
    {
     "data": {
      "text/plain": [
       "536434"
      ]
     },
     "execution_count": 12,
     "metadata": {},
     "output_type": "execute_result"
    }
   ],
   "source": [
    "# Load in the image and labels\n",
    "image_names, label_names = get_image_and_labels(img_path, label_path)"
   ]
  },
  {
   "cell_type": "code",
   "execution_count": 13,
   "metadata": {},
   "outputs": [
    {
     "name": "stdout",
     "output_type": "stream",
     "text": [
      "Total number of with_label_image_names: 536432\n"
     ]
    }
   ],
   "source": [
    "# Get the intersection of the two sets\n",
    "with_label_image_names = intersection(image_names, label_names)\n",
    "print(\"Total number of with_label_image_names:\", len(with_label_image_names))"
   ]
  },
  {
   "cell_type": "code",
   "execution_count": 17,
   "metadata": {
    "collapsed": true
   },
   "outputs": [
    {
     "ename": "KeyboardInterrupt",
     "evalue": "",
     "output_type": "error",
     "traceback": [
      "\u001b[1;31m---------------------------------------------------------------------------\u001b[0m",
      "\u001b[1;31mKeyboardInterrupt\u001b[0m                         Traceback (most recent call last)",
      "\u001b[1;32m<ipython-input-17-ed0bd17d8e6c>\u001b[0m in \u001b[0;36m<module>\u001b[1;34m()\u001b[0m\n\u001b[0;32m      2\u001b[0m \u001b[1;32mfor\u001b[0m \u001b[0mname\u001b[0m \u001b[1;32min\u001b[0m \u001b[0mwith_label_image_names\u001b[0m\u001b[1;33m:\u001b[0m\u001b[1;33m\u001b[0m\u001b[0m\n\u001b[0;32m      3\u001b[0m     \u001b[0mall_files\u001b[0m\u001b[1;33m[\u001b[0m\u001b[1;34m'file_name'\u001b[0m\u001b[1;33m]\u001b[0m\u001b[1;33m.\u001b[0m\u001b[0mappend\u001b[0m\u001b[1;33m(\u001b[0m\u001b[0mstr\u001b[0m\u001b[1;33m(\u001b[0m\u001b[0mname\u001b[0m\u001b[1;33m)\u001b[0m\u001b[1;33m)\u001b[0m\u001b[1;33m\u001b[0m\u001b[0m\n\u001b[1;32m----> 4\u001b[1;33m     \u001b[0mall_files\u001b[0m\u001b[1;33m[\u001b[0m\u001b[1;34m'label'\u001b[0m\u001b[1;33m]\u001b[0m\u001b[1;33m.\u001b[0m\u001b[0mappend\u001b[0m\u001b[1;33m(\u001b[0m\u001b[0mget_metadata\u001b[0m\u001b[1;33m(\u001b[0m\u001b[0mlabel_path\u001b[0m \u001b[1;33m+\u001b[0m \u001b[1;34m'/'\u001b[0m \u001b[1;33m+\u001b[0m \u001b[0mname\u001b[0m \u001b[1;33m+\u001b[0m \u001b[1;34m'.json'\u001b[0m\u001b[1;33m)\u001b[0m\u001b[1;33m)\u001b[0m\u001b[1;33m\u001b[0m\u001b[0m\n\u001b[0m\u001b[0;32m      5\u001b[0m \u001b[0mall_files\u001b[0m \u001b[1;33m=\u001b[0m \u001b[0mpd\u001b[0m\u001b[1;33m.\u001b[0m\u001b[0mDataFrame\u001b[0m\u001b[1;33m(\u001b[0m\u001b[0mall_files\u001b[0m\u001b[1;33m)\u001b[0m\u001b[1;33m\u001b[0m\u001b[0m\n\u001b[0;32m      6\u001b[0m \u001b[0mall_files\u001b[0m\u001b[1;33m.\u001b[0m\u001b[0mto_csv\u001b[0m\u001b[1;33m(\u001b[0m\u001b[0mcsv_path\u001b[0m \u001b[1;33m+\u001b[0m \u001b[1;34m'all_file_label.csv'\u001b[0m\u001b[1;33m,\u001b[0m \u001b[0mindex\u001b[0m \u001b[1;33m=\u001b[0m \u001b[1;32mNone\u001b[0m\u001b[1;33m)\u001b[0m\u001b[1;33m\u001b[0m\u001b[0m\n",
      "\u001b[1;32m<ipython-input-6-29bbf74797b2>\u001b[0m in \u001b[0;36mget_metadata\u001b[1;34m(path)\u001b[0m\n\u001b[0;32m      4\u001b[0m \u001b[1;33m\u001b[0m\u001b[0m\n\u001b[0;32m      5\u001b[0m \u001b[1;32mdef\u001b[0m \u001b[0mget_metadata\u001b[0m\u001b[1;33m(\u001b[0m\u001b[0mpath\u001b[0m\u001b[1;33m)\u001b[0m\u001b[1;33m:\u001b[0m\u001b[1;33m\u001b[0m\u001b[0m\n\u001b[1;32m----> 6\u001b[1;33m     \u001b[0mraw_json\u001b[0m \u001b[1;33m=\u001b[0m \u001b[0mjson\u001b[0m\u001b[1;33m.\u001b[0m\u001b[0mloads\u001b[0m\u001b[1;33m(\u001b[0m\u001b[0mopen\u001b[0m\u001b[1;33m(\u001b[0m\u001b[0mpath\u001b[0m\u001b[1;33m)\u001b[0m\u001b[1;33m.\u001b[0m\u001b[0mread\u001b[0m\u001b[1;33m(\u001b[0m\u001b[1;33m)\u001b[0m\u001b[1;33m)\u001b[0m\u001b[1;33m\u001b[0m\u001b[0m\n\u001b[0m\u001b[0;32m      7\u001b[0m     \u001b[0mnum_items\u001b[0m \u001b[1;33m=\u001b[0m \u001b[0mraw_json\u001b[0m\u001b[1;33m[\u001b[0m\u001b[1;34m'EXPECTED_QUANTITY'\u001b[0m\u001b[1;33m]\u001b[0m\u001b[1;33m\u001b[0m\u001b[0m\n\u001b[0;32m      8\u001b[0m     \u001b[1;32mreturn\u001b[0m \u001b[0mnum_items\u001b[0m\u001b[1;33m\u001b[0m\u001b[0m\n",
      "\u001b[1;32mc:\\users\\zaid\\anaconda2\\envs\\tensorflow3\\lib\\_bootlocale.py\u001b[0m in \u001b[0;36mgetpreferredencoding\u001b[1;34m(do_setlocale)\u001b[0m\n\u001b[0;32m      9\u001b[0m \u001b[1;33m\u001b[0m\u001b[0m\n\u001b[0;32m     10\u001b[0m \u001b[1;32mif\u001b[0m \u001b[0msys\u001b[0m\u001b[1;33m.\u001b[0m\u001b[0mplatform\u001b[0m\u001b[1;33m.\u001b[0m\u001b[0mstartswith\u001b[0m\u001b[1;33m(\u001b[0m\u001b[1;34m\"win\"\u001b[0m\u001b[1;33m)\u001b[0m\u001b[1;33m:\u001b[0m\u001b[1;33m\u001b[0m\u001b[0m\n\u001b[1;32m---> 11\u001b[1;33m     \u001b[1;32mdef\u001b[0m \u001b[0mgetpreferredencoding\u001b[0m\u001b[1;33m(\u001b[0m\u001b[0mdo_setlocale\u001b[0m\u001b[1;33m=\u001b[0m\u001b[1;32mTrue\u001b[0m\u001b[1;33m)\u001b[0m\u001b[1;33m:\u001b[0m\u001b[1;33m\u001b[0m\u001b[0m\n\u001b[0m\u001b[0;32m     12\u001b[0m         \u001b[1;32mreturn\u001b[0m \u001b[0m_locale\u001b[0m\u001b[1;33m.\u001b[0m\u001b[0m_getdefaultlocale\u001b[0m\u001b[1;33m(\u001b[0m\u001b[1;33m)\u001b[0m\u001b[1;33m[\u001b[0m\u001b[1;36m1\u001b[0m\u001b[1;33m]\u001b[0m\u001b[1;33m\u001b[0m\u001b[0m\n\u001b[0;32m     13\u001b[0m \u001b[1;32melse\u001b[0m\u001b[1;33m:\u001b[0m\u001b[1;33m\u001b[0m\u001b[0m\n",
      "\u001b[1;31mKeyboardInterrupt\u001b[0m: "
     ]
    }
   ],
   "source": [
    "all_files = defaultdict(list)\n",
    "for name in with_label_image_names:\n",
    "    all_files['file_name'].append(str(name))\n",
    "    all_files['label'].append(get_metadata(label_path + '/' + name + '.json'))\n",
    "all_files = pd.DataFrame(all_files)\n",
    "all_files.head()"
   ]
  },
  {
   "cell_type": "code",
   "execution_count": null,
   "metadata": {},
   "outputs": [],
   "source": [
    "# Calculating the sharpness\n",
    "sharpness_list = []\n",
    "for i in range(len(df)):\n",
    "    filename = img_path + '\\\\'+ all_files['file_name'][i] +'.jpg'\n",
    "    im = Image.open(filename).convert('L') # to grayscale\n",
    "    array = np.asarray(im, dtype=np.int32)\n",
    "    gy, gx = np.gradient(array)\n",
    "    gnorm = np.sqrt(gx**2 + gy**2)\n",
    "    sharpness = np.average(gnorm)\n",
    "    sharpness_list.append(sharpness)\n",
    "    \n",
    "print(len(sharpness_list))"
   ]
  },
  {
   "cell_type": "code",
   "execution_count": null,
   "metadata": {},
   "outputs": [],
   "source": [
    "# Save to folder\n",
    "all_files['sharpness'] = pd.Series(sharpness_list, dtype = np.float32)\n",
    "print(all_files.dtypes)\n",
    "all_files.to_csv(csv_path + '\\\\all_file_label_sharp.csv', index = None)"
   ]
  },
  {
   "cell_type": "code",
   "execution_count": 19,
   "metadata": {},
   "outputs": [
    {
     "data": {
      "text/plain": [
       "file_name     object\n",
       "label          int64\n",
       "sharpness    float32\n",
       "dtype: object"
      ]
     },
     "execution_count": 19,
     "metadata": {},
     "output_type": "execute_result"
    }
   ],
   "source": [
    "all_files = pd.read_csv(csv_path + '\\\\all_file_label_sharp.csv', dtype = {'file_name':str, 'lable':np.int8, 'sharpness':np.float32})\n",
    "all_files.dtypes"
   ]
  },
  {
   "cell_type": "code",
   "execution_count": 23,
   "metadata": {},
   "outputs": [
    {
     "name": "stdout",
     "output_type": "stream",
     "text": [
      "all_files.shape: (536432, 3)\n",
      "df_test.shape: (53644, 3)\n",
      "df_val.shape: (53644, 3)\n",
      "df_train.shape: (429144, 3)\n"
     ]
    }
   ],
   "source": [
    "# Select 10 percent samples for val and test each\n",
    "test_size = len(all_files) // 10\n",
    "df_test = all_files.loc[:test_size, :]\n",
    "df_val = all_files.loc[test_size+1:2*test_size+1, :]\n",
    "df_train = all_files.loc[2*test_size+2:, :]\n",
    "print(\"all_files.shape:\", all_files.shape)\n",
    "print(\"df_test.shape:\", df_test.shape)\n",
    "print(\"df_val.shape:\", df_val.shape)\n",
    "print(\"df_train.shape:\", df_train.shape)\n",
    "\n",
    "df_train.to_csv(csv_path + '\\\\hard_train.csv', index = None)\n",
    "df_val.to_csv(csv_path + '\\\\hard_val.csv', index = None)\n",
    "df_test.to_csv(csv_path + '\\\\hard_test.csv', index = None)"
   ]
  },
  {
   "cell_type": "code",
   "execution_count": 25,
   "metadata": {},
   "outputs": [
    {
     "data": {
      "text/plain": [
       "(361967, 3)"
      ]
     },
     "execution_count": 25,
     "metadata": {},
     "output_type": "execute_result"
    }
   ],
   "source": [
    "moderate = all_files[all_files['label'] <= 5]\n",
    "moderate.index = range(len(moderate))\n",
    "moderate.shape"
   ]
  },
  {
   "cell_type": "code",
   "execution_count": 28,
   "metadata": {},
   "outputs": [
    {
     "name": "stdout",
     "output_type": "stream",
     "text": [
      "df_test.shape: (36197, 3)\n",
      "df_val.shape: (36197, 3)\n",
      "df_train.shape: (289573, 3)\n"
     ]
    }
   ],
   "source": [
    "# Only select 15000 samples each for val and test\n",
    "test_size = len(moderate) // 10\n",
    "df_test = moderate.loc[:test_size, :]\n",
    "df_val = moderate.loc[test_size+1:2*test_size+1, :]\n",
    "df_train = moderate.loc[2*test_size+2:, :]\n",
    "print(\"df_test.shape:\", df_test.shape)\n",
    "print(\"df_val.shape:\", df_val.shape)\n",
    "print(\"df_train.shape:\", df_train.shape)\n",
    "\n",
    "df_train.to_csv(csv_path + '\\\\moderate_train.csv', index = None)\n",
    "df_val.to_csv(csv_path + '\\\\moderate_val.csv', index = None)\n",
    "df_test.to_csv(csv_path + '\\\\moderate_test.csv', index = None)"
   ]
  }
 ],
 "metadata": {
  "kernelspec": {
   "display_name": "Python 3",
   "language": "python",
   "name": "python3"
  },
  "language_info": {
   "codemirror_mode": {
    "name": "ipython",
    "version": 3
   },
   "file_extension": ".py",
   "mimetype": "text/x-python",
   "name": "python",
   "nbconvert_exporter": "python",
   "pygments_lexer": "ipython3",
   "version": "3.5.5"
  }
 },
 "nbformat": 4,
 "nbformat_minor": 2
}
